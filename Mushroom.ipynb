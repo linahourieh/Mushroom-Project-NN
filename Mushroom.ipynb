{
  "nbformat": 4,
  "nbformat_minor": 0,
  "metadata": {
    "colab": {
      "name": "Mushroom.ipynb",
      "provenance": []
    },
    "kernelspec": {
      "name": "python3",
      "display_name": "Python 3"
    },
    "language_info": {
      "name": "python"
    }
  },
  "cells": [
    {
      "cell_type": "markdown",
      "source": [
        "## Importing Libraries"
      ],
      "metadata": {
        "id": "nWtz8_LRfZtd"
      }
    },
    {
      "cell_type": "code",
      "execution_count": 42,
      "metadata": {
        "id": "qbeNHiUseo8c"
      },
      "outputs": [],
      "source": [
        "import numpy as np \n",
        "import pandas as pd\n",
        "from sklearn.preprocessing import OneHotEncoder,LabelEncoder\n",
        "from sklearn.model_selection import train_test_split, StratifiedShuffleSplit\n",
        "\n",
        "import matplotlib.pyplot as plt\n"
      ]
    },
    {
      "cell_type": "markdown",
      "source": [
        "## Preprocessing"
      ],
      "metadata": {
        "id": "HMEA_UjtkdDg"
      }
    },
    {
      "cell_type": "code",
      "source": [
        "df_original = pd.read_csv('/content/mushrooms.csv')\n",
        "df = df_original.copy()\n",
        "df"
      ],
      "metadata": {
        "colab": {
          "base_uri": "https://localhost:8080/",
          "height": 540
        },
        "id": "yy9snJiGexo_",
        "outputId": "63488c2f-a012-4700-ea7d-ab56e7743e0f"
      },
      "execution_count": 3,
      "outputs": [
        {
          "output_type": "execute_result",
          "data": {
            "text/plain": [
              "     class cap-shape cap-surface cap-color bruises odor gill-attachment  \\\n",
              "0        p         x           s         n       t    p               f   \n",
              "1        e         x           s         y       t    a               f   \n",
              "2        e         b           s         w       t    l               f   \n",
              "3        p         x           y         w       t    p               f   \n",
              "4        e         x           s         g       f    n               f   \n",
              "...    ...       ...         ...       ...     ...  ...             ...   \n",
              "8119     e         k           s         n       f    n               a   \n",
              "8120     e         x           s         n       f    n               a   \n",
              "8121     e         f           s         n       f    n               a   \n",
              "8122     p         k           y         n       f    y               f   \n",
              "8123     e         x           s         n       f    n               a   \n",
              "\n",
              "     gill-spacing gill-size gill-color  ... stalk-surface-below-ring  \\\n",
              "0               c         n          k  ...                        s   \n",
              "1               c         b          k  ...                        s   \n",
              "2               c         b          n  ...                        s   \n",
              "3               c         n          n  ...                        s   \n",
              "4               w         b          k  ...                        s   \n",
              "...           ...       ...        ...  ...                      ...   \n",
              "8119            c         b          y  ...                        s   \n",
              "8120            c         b          y  ...                        s   \n",
              "8121            c         b          n  ...                        s   \n",
              "8122            c         n          b  ...                        k   \n",
              "8123            c         b          y  ...                        s   \n",
              "\n",
              "     stalk-color-above-ring stalk-color-below-ring veil-type veil-color  \\\n",
              "0                         w                      w         p          w   \n",
              "1                         w                      w         p          w   \n",
              "2                         w                      w         p          w   \n",
              "3                         w                      w         p          w   \n",
              "4                         w                      w         p          w   \n",
              "...                     ...                    ...       ...        ...   \n",
              "8119                      o                      o         p          o   \n",
              "8120                      o                      o         p          n   \n",
              "8121                      o                      o         p          o   \n",
              "8122                      w                      w         p          w   \n",
              "8123                      o                      o         p          o   \n",
              "\n",
              "     ring-number ring-type spore-print-color population habitat  \n",
              "0              o         p                 k          s       u  \n",
              "1              o         p                 n          n       g  \n",
              "2              o         p                 n          n       m  \n",
              "3              o         p                 k          s       u  \n",
              "4              o         e                 n          a       g  \n",
              "...          ...       ...               ...        ...     ...  \n",
              "8119           o         p                 b          c       l  \n",
              "8120           o         p                 b          v       l  \n",
              "8121           o         p                 b          c       l  \n",
              "8122           o         e                 w          v       l  \n",
              "8123           o         p                 o          c       l  \n",
              "\n",
              "[8124 rows x 23 columns]"
            ],
            "text/html": [
              "\n",
              "  <div id=\"df-e34e9fd2-9668-43bd-aded-112ea7166b6e\">\n",
              "    <div class=\"colab-df-container\">\n",
              "      <div>\n",
              "<style scoped>\n",
              "    .dataframe tbody tr th:only-of-type {\n",
              "        vertical-align: middle;\n",
              "    }\n",
              "\n",
              "    .dataframe tbody tr th {\n",
              "        vertical-align: top;\n",
              "    }\n",
              "\n",
              "    .dataframe thead th {\n",
              "        text-align: right;\n",
              "    }\n",
              "</style>\n",
              "<table border=\"1\" class=\"dataframe\">\n",
              "  <thead>\n",
              "    <tr style=\"text-align: right;\">\n",
              "      <th></th>\n",
              "      <th>class</th>\n",
              "      <th>cap-shape</th>\n",
              "      <th>cap-surface</th>\n",
              "      <th>cap-color</th>\n",
              "      <th>bruises</th>\n",
              "      <th>odor</th>\n",
              "      <th>gill-attachment</th>\n",
              "      <th>gill-spacing</th>\n",
              "      <th>gill-size</th>\n",
              "      <th>gill-color</th>\n",
              "      <th>...</th>\n",
              "      <th>stalk-surface-below-ring</th>\n",
              "      <th>stalk-color-above-ring</th>\n",
              "      <th>stalk-color-below-ring</th>\n",
              "      <th>veil-type</th>\n",
              "      <th>veil-color</th>\n",
              "      <th>ring-number</th>\n",
              "      <th>ring-type</th>\n",
              "      <th>spore-print-color</th>\n",
              "      <th>population</th>\n",
              "      <th>habitat</th>\n",
              "    </tr>\n",
              "  </thead>\n",
              "  <tbody>\n",
              "    <tr>\n",
              "      <th>0</th>\n",
              "      <td>p</td>\n",
              "      <td>x</td>\n",
              "      <td>s</td>\n",
              "      <td>n</td>\n",
              "      <td>t</td>\n",
              "      <td>p</td>\n",
              "      <td>f</td>\n",
              "      <td>c</td>\n",
              "      <td>n</td>\n",
              "      <td>k</td>\n",
              "      <td>...</td>\n",
              "      <td>s</td>\n",
              "      <td>w</td>\n",
              "      <td>w</td>\n",
              "      <td>p</td>\n",
              "      <td>w</td>\n",
              "      <td>o</td>\n",
              "      <td>p</td>\n",
              "      <td>k</td>\n",
              "      <td>s</td>\n",
              "      <td>u</td>\n",
              "    </tr>\n",
              "    <tr>\n",
              "      <th>1</th>\n",
              "      <td>e</td>\n",
              "      <td>x</td>\n",
              "      <td>s</td>\n",
              "      <td>y</td>\n",
              "      <td>t</td>\n",
              "      <td>a</td>\n",
              "      <td>f</td>\n",
              "      <td>c</td>\n",
              "      <td>b</td>\n",
              "      <td>k</td>\n",
              "      <td>...</td>\n",
              "      <td>s</td>\n",
              "      <td>w</td>\n",
              "      <td>w</td>\n",
              "      <td>p</td>\n",
              "      <td>w</td>\n",
              "      <td>o</td>\n",
              "      <td>p</td>\n",
              "      <td>n</td>\n",
              "      <td>n</td>\n",
              "      <td>g</td>\n",
              "    </tr>\n",
              "    <tr>\n",
              "      <th>2</th>\n",
              "      <td>e</td>\n",
              "      <td>b</td>\n",
              "      <td>s</td>\n",
              "      <td>w</td>\n",
              "      <td>t</td>\n",
              "      <td>l</td>\n",
              "      <td>f</td>\n",
              "      <td>c</td>\n",
              "      <td>b</td>\n",
              "      <td>n</td>\n",
              "      <td>...</td>\n",
              "      <td>s</td>\n",
              "      <td>w</td>\n",
              "      <td>w</td>\n",
              "      <td>p</td>\n",
              "      <td>w</td>\n",
              "      <td>o</td>\n",
              "      <td>p</td>\n",
              "      <td>n</td>\n",
              "      <td>n</td>\n",
              "      <td>m</td>\n",
              "    </tr>\n",
              "    <tr>\n",
              "      <th>3</th>\n",
              "      <td>p</td>\n",
              "      <td>x</td>\n",
              "      <td>y</td>\n",
              "      <td>w</td>\n",
              "      <td>t</td>\n",
              "      <td>p</td>\n",
              "      <td>f</td>\n",
              "      <td>c</td>\n",
              "      <td>n</td>\n",
              "      <td>n</td>\n",
              "      <td>...</td>\n",
              "      <td>s</td>\n",
              "      <td>w</td>\n",
              "      <td>w</td>\n",
              "      <td>p</td>\n",
              "      <td>w</td>\n",
              "      <td>o</td>\n",
              "      <td>p</td>\n",
              "      <td>k</td>\n",
              "      <td>s</td>\n",
              "      <td>u</td>\n",
              "    </tr>\n",
              "    <tr>\n",
              "      <th>4</th>\n",
              "      <td>e</td>\n",
              "      <td>x</td>\n",
              "      <td>s</td>\n",
              "      <td>g</td>\n",
              "      <td>f</td>\n",
              "      <td>n</td>\n",
              "      <td>f</td>\n",
              "      <td>w</td>\n",
              "      <td>b</td>\n",
              "      <td>k</td>\n",
              "      <td>...</td>\n",
              "      <td>s</td>\n",
              "      <td>w</td>\n",
              "      <td>w</td>\n",
              "      <td>p</td>\n",
              "      <td>w</td>\n",
              "      <td>o</td>\n",
              "      <td>e</td>\n",
              "      <td>n</td>\n",
              "      <td>a</td>\n",
              "      <td>g</td>\n",
              "    </tr>\n",
              "    <tr>\n",
              "      <th>...</th>\n",
              "      <td>...</td>\n",
              "      <td>...</td>\n",
              "      <td>...</td>\n",
              "      <td>...</td>\n",
              "      <td>...</td>\n",
              "      <td>...</td>\n",
              "      <td>...</td>\n",
              "      <td>...</td>\n",
              "      <td>...</td>\n",
              "      <td>...</td>\n",
              "      <td>...</td>\n",
              "      <td>...</td>\n",
              "      <td>...</td>\n",
              "      <td>...</td>\n",
              "      <td>...</td>\n",
              "      <td>...</td>\n",
              "      <td>...</td>\n",
              "      <td>...</td>\n",
              "      <td>...</td>\n",
              "      <td>...</td>\n",
              "      <td>...</td>\n",
              "    </tr>\n",
              "    <tr>\n",
              "      <th>8119</th>\n",
              "      <td>e</td>\n",
              "      <td>k</td>\n",
              "      <td>s</td>\n",
              "      <td>n</td>\n",
              "      <td>f</td>\n",
              "      <td>n</td>\n",
              "      <td>a</td>\n",
              "      <td>c</td>\n",
              "      <td>b</td>\n",
              "      <td>y</td>\n",
              "      <td>...</td>\n",
              "      <td>s</td>\n",
              "      <td>o</td>\n",
              "      <td>o</td>\n",
              "      <td>p</td>\n",
              "      <td>o</td>\n",
              "      <td>o</td>\n",
              "      <td>p</td>\n",
              "      <td>b</td>\n",
              "      <td>c</td>\n",
              "      <td>l</td>\n",
              "    </tr>\n",
              "    <tr>\n",
              "      <th>8120</th>\n",
              "      <td>e</td>\n",
              "      <td>x</td>\n",
              "      <td>s</td>\n",
              "      <td>n</td>\n",
              "      <td>f</td>\n",
              "      <td>n</td>\n",
              "      <td>a</td>\n",
              "      <td>c</td>\n",
              "      <td>b</td>\n",
              "      <td>y</td>\n",
              "      <td>...</td>\n",
              "      <td>s</td>\n",
              "      <td>o</td>\n",
              "      <td>o</td>\n",
              "      <td>p</td>\n",
              "      <td>n</td>\n",
              "      <td>o</td>\n",
              "      <td>p</td>\n",
              "      <td>b</td>\n",
              "      <td>v</td>\n",
              "      <td>l</td>\n",
              "    </tr>\n",
              "    <tr>\n",
              "      <th>8121</th>\n",
              "      <td>e</td>\n",
              "      <td>f</td>\n",
              "      <td>s</td>\n",
              "      <td>n</td>\n",
              "      <td>f</td>\n",
              "      <td>n</td>\n",
              "      <td>a</td>\n",
              "      <td>c</td>\n",
              "      <td>b</td>\n",
              "      <td>n</td>\n",
              "      <td>...</td>\n",
              "      <td>s</td>\n",
              "      <td>o</td>\n",
              "      <td>o</td>\n",
              "      <td>p</td>\n",
              "      <td>o</td>\n",
              "      <td>o</td>\n",
              "      <td>p</td>\n",
              "      <td>b</td>\n",
              "      <td>c</td>\n",
              "      <td>l</td>\n",
              "    </tr>\n",
              "    <tr>\n",
              "      <th>8122</th>\n",
              "      <td>p</td>\n",
              "      <td>k</td>\n",
              "      <td>y</td>\n",
              "      <td>n</td>\n",
              "      <td>f</td>\n",
              "      <td>y</td>\n",
              "      <td>f</td>\n",
              "      <td>c</td>\n",
              "      <td>n</td>\n",
              "      <td>b</td>\n",
              "      <td>...</td>\n",
              "      <td>k</td>\n",
              "      <td>w</td>\n",
              "      <td>w</td>\n",
              "      <td>p</td>\n",
              "      <td>w</td>\n",
              "      <td>o</td>\n",
              "      <td>e</td>\n",
              "      <td>w</td>\n",
              "      <td>v</td>\n",
              "      <td>l</td>\n",
              "    </tr>\n",
              "    <tr>\n",
              "      <th>8123</th>\n",
              "      <td>e</td>\n",
              "      <td>x</td>\n",
              "      <td>s</td>\n",
              "      <td>n</td>\n",
              "      <td>f</td>\n",
              "      <td>n</td>\n",
              "      <td>a</td>\n",
              "      <td>c</td>\n",
              "      <td>b</td>\n",
              "      <td>y</td>\n",
              "      <td>...</td>\n",
              "      <td>s</td>\n",
              "      <td>o</td>\n",
              "      <td>o</td>\n",
              "      <td>p</td>\n",
              "      <td>o</td>\n",
              "      <td>o</td>\n",
              "      <td>p</td>\n",
              "      <td>o</td>\n",
              "      <td>c</td>\n",
              "      <td>l</td>\n",
              "    </tr>\n",
              "  </tbody>\n",
              "</table>\n",
              "<p>8124 rows × 23 columns</p>\n",
              "</div>\n",
              "      <button class=\"colab-df-convert\" onclick=\"convertToInteractive('df-e34e9fd2-9668-43bd-aded-112ea7166b6e')\"\n",
              "              title=\"Convert this dataframe to an interactive table.\"\n",
              "              style=\"display:none;\">\n",
              "        \n",
              "  <svg xmlns=\"http://www.w3.org/2000/svg\" height=\"24px\"viewBox=\"0 0 24 24\"\n",
              "       width=\"24px\">\n",
              "    <path d=\"M0 0h24v24H0V0z\" fill=\"none\"/>\n",
              "    <path d=\"M18.56 5.44l.94 2.06.94-2.06 2.06-.94-2.06-.94-.94-2.06-.94 2.06-2.06.94zm-11 1L8.5 8.5l.94-2.06 2.06-.94-2.06-.94L8.5 2.5l-.94 2.06-2.06.94zm10 10l.94 2.06.94-2.06 2.06-.94-2.06-.94-.94-2.06-.94 2.06-2.06.94z\"/><path d=\"M17.41 7.96l-1.37-1.37c-.4-.4-.92-.59-1.43-.59-.52 0-1.04.2-1.43.59L10.3 9.45l-7.72 7.72c-.78.78-.78 2.05 0 2.83L4 21.41c.39.39.9.59 1.41.59.51 0 1.02-.2 1.41-.59l7.78-7.78 2.81-2.81c.8-.78.8-2.07 0-2.86zM5.41 20L4 18.59l7.72-7.72 1.47 1.35L5.41 20z\"/>\n",
              "  </svg>\n",
              "      </button>\n",
              "      \n",
              "  <style>\n",
              "    .colab-df-container {\n",
              "      display:flex;\n",
              "      flex-wrap:wrap;\n",
              "      gap: 12px;\n",
              "    }\n",
              "\n",
              "    .colab-df-convert {\n",
              "      background-color: #E8F0FE;\n",
              "      border: none;\n",
              "      border-radius: 50%;\n",
              "      cursor: pointer;\n",
              "      display: none;\n",
              "      fill: #1967D2;\n",
              "      height: 32px;\n",
              "      padding: 0 0 0 0;\n",
              "      width: 32px;\n",
              "    }\n",
              "\n",
              "    .colab-df-convert:hover {\n",
              "      background-color: #E2EBFA;\n",
              "      box-shadow: 0px 1px 2px rgba(60, 64, 67, 0.3), 0px 1px 3px 1px rgba(60, 64, 67, 0.15);\n",
              "      fill: #174EA6;\n",
              "    }\n",
              "\n",
              "    [theme=dark] .colab-df-convert {\n",
              "      background-color: #3B4455;\n",
              "      fill: #D2E3FC;\n",
              "    }\n",
              "\n",
              "    [theme=dark] .colab-df-convert:hover {\n",
              "      background-color: #434B5C;\n",
              "      box-shadow: 0px 1px 3px 1px rgba(0, 0, 0, 0.15);\n",
              "      filter: drop-shadow(0px 1px 2px rgba(0, 0, 0, 0.3));\n",
              "      fill: #FFFFFF;\n",
              "    }\n",
              "  </style>\n",
              "\n",
              "      <script>\n",
              "        const buttonEl =\n",
              "          document.querySelector('#df-e34e9fd2-9668-43bd-aded-112ea7166b6e button.colab-df-convert');\n",
              "        buttonEl.style.display =\n",
              "          google.colab.kernel.accessAllowed ? 'block' : 'none';\n",
              "\n",
              "        async function convertToInteractive(key) {\n",
              "          const element = document.querySelector('#df-e34e9fd2-9668-43bd-aded-112ea7166b6e');\n",
              "          const dataTable =\n",
              "            await google.colab.kernel.invokeFunction('convertToInteractive',\n",
              "                                                     [key], {});\n",
              "          if (!dataTable) return;\n",
              "\n",
              "          const docLinkHtml = 'Like what you see? Visit the ' +\n",
              "            '<a target=\"_blank\" href=https://colab.research.google.com/notebooks/data_table.ipynb>data table notebook</a>'\n",
              "            + ' to learn more about interactive tables.';\n",
              "          element.innerHTML = '';\n",
              "          dataTable['output_type'] = 'display_data';\n",
              "          await google.colab.output.renderOutput(dataTable, element);\n",
              "          const docLink = document.createElement('div');\n",
              "          docLink.innerHTML = docLinkHtml;\n",
              "          element.appendChild(docLink);\n",
              "        }\n",
              "      </script>\n",
              "    </div>\n",
              "  </div>\n",
              "  "
            ]
          },
          "metadata": {},
          "execution_count": 3
        }
      ]
    },
    {
      "cell_type": "code",
      "source": [
        "# No missing values\n",
        "df.isnull().sum()"
      ],
      "metadata": {
        "colab": {
          "base_uri": "https://localhost:8080/"
        },
        "id": "eQPiBErwe4L6",
        "outputId": "21db5389-9052-4d7f-fee9-f9d4d1f53112"
      },
      "execution_count": 4,
      "outputs": [
        {
          "output_type": "execute_result",
          "data": {
            "text/plain": [
              "class                       0\n",
              "cap-shape                   0\n",
              "cap-surface                 0\n",
              "cap-color                   0\n",
              "bruises                     0\n",
              "odor                        0\n",
              "gill-attachment             0\n",
              "gill-spacing                0\n",
              "gill-size                   0\n",
              "gill-color                  0\n",
              "stalk-shape                 0\n",
              "stalk-root                  0\n",
              "stalk-surface-above-ring    0\n",
              "stalk-surface-below-ring    0\n",
              "stalk-color-above-ring      0\n",
              "stalk-color-below-ring      0\n",
              "veil-type                   0\n",
              "veil-color                  0\n",
              "ring-number                 0\n",
              "ring-type                   0\n",
              "spore-print-color           0\n",
              "population                  0\n",
              "habitat                     0\n",
              "dtype: int64"
            ]
          },
          "metadata": {},
          "execution_count": 4
        }
      ]
    },
    {
      "cell_type": "code",
      "source": [
        "# divide dataset into X & Y to use different encoding techniques\n",
        "Y = df['class']\n",
        "X = df.drop(columns=['class'])\n",
        "print('X.shape =',X.shape)\n",
        "print('X.shape =',Y.shape)"
      ],
      "metadata": {
        "id": "zKxwayTyff8_",
        "colab": {
          "base_uri": "https://localhost:8080/"
        },
        "outputId": "45f1aa4f-5623-4ba8-bf5e-4df9bc30ab2e"
      },
      "execution_count": 216,
      "outputs": [
        {
          "output_type": "stream",
          "name": "stdout",
          "text": [
            "X.shape = (8124, 22)\n",
            "X.shape = (8124,)\n"
          ]
        }
      ]
    },
    {
      "cell_type": "code",
      "source": [
        "#selecting the categ columns\n",
        "categ_columns = X.select_dtypes(include=['object']).columns\n",
        "categ_var = X[categ_columns]\n",
        "\n",
        "#ont hot encoding\n",
        "enc = OneHotEncoder(handle_unknown='ignore').fit(categ_var)\n",
        "transformed = enc.fit_transform(X[categ_columns]).toarray()\n",
        "onehot_df = pd.DataFrame(transformed, columns=enc.get_feature_names())\n",
        "X = pd.concat([X, onehot_df], axis=1)\n",
        "X = X.drop(columns=categ_columns)\n",
        "print(X)"
      ],
      "metadata": {
        "colab": {
          "base_uri": "https://localhost:8080/"
        },
        "id": "4tmNm9ongMfh",
        "outputId": "5c9afa70-f3a9-44d2-8d46-129082627ef6"
      },
      "execution_count": 217,
      "outputs": [
        {
          "output_type": "stream",
          "name": "stdout",
          "text": [
            "      x0_b  x0_c  x0_f  x0_k  x0_s  x0_x  x1_f  x1_g  x1_s  x1_y  ...  x20_s  \\\n",
            "0      0.0   0.0   0.0   0.0   0.0   1.0   0.0   0.0   1.0   0.0  ...    1.0   \n",
            "1      0.0   0.0   0.0   0.0   0.0   1.0   0.0   0.0   1.0   0.0  ...    0.0   \n",
            "2      1.0   0.0   0.0   0.0   0.0   0.0   0.0   0.0   1.0   0.0  ...    0.0   \n",
            "3      0.0   0.0   0.0   0.0   0.0   1.0   0.0   0.0   0.0   1.0  ...    1.0   \n",
            "4      0.0   0.0   0.0   0.0   0.0   1.0   0.0   0.0   1.0   0.0  ...    0.0   \n",
            "...    ...   ...   ...   ...   ...   ...   ...   ...   ...   ...  ...    ...   \n",
            "8119   0.0   0.0   0.0   1.0   0.0   0.0   0.0   0.0   1.0   0.0  ...    0.0   \n",
            "8120   0.0   0.0   0.0   0.0   0.0   1.0   0.0   0.0   1.0   0.0  ...    0.0   \n",
            "8121   0.0   0.0   1.0   0.0   0.0   0.0   0.0   0.0   1.0   0.0  ...    0.0   \n",
            "8122   0.0   0.0   0.0   1.0   0.0   0.0   0.0   0.0   0.0   1.0  ...    0.0   \n",
            "8123   0.0   0.0   0.0   0.0   0.0   1.0   0.0   0.0   1.0   0.0  ...    0.0   \n",
            "\n",
            "      x20_v  x20_y  x21_d  x21_g  x21_l  x21_m  x21_p  x21_u  x21_w  \n",
            "0       0.0    0.0    0.0    0.0    0.0    0.0    0.0    1.0    0.0  \n",
            "1       0.0    0.0    0.0    1.0    0.0    0.0    0.0    0.0    0.0  \n",
            "2       0.0    0.0    0.0    0.0    0.0    1.0    0.0    0.0    0.0  \n",
            "3       0.0    0.0    0.0    0.0    0.0    0.0    0.0    1.0    0.0  \n",
            "4       0.0    0.0    0.0    1.0    0.0    0.0    0.0    0.0    0.0  \n",
            "...     ...    ...    ...    ...    ...    ...    ...    ...    ...  \n",
            "8119    0.0    0.0    0.0    0.0    1.0    0.0    0.0    0.0    0.0  \n",
            "8120    1.0    0.0    0.0    0.0    1.0    0.0    0.0    0.0    0.0  \n",
            "8121    0.0    0.0    0.0    0.0    1.0    0.0    0.0    0.0    0.0  \n",
            "8122    1.0    0.0    0.0    0.0    1.0    0.0    0.0    0.0    0.0  \n",
            "8123    0.0    0.0    0.0    0.0    1.0    0.0    0.0    0.0    0.0  \n",
            "\n",
            "[8124 rows x 117 columns]\n"
          ]
        },
        {
          "output_type": "stream",
          "name": "stderr",
          "text": [
            "/usr/local/lib/python3.7/dist-packages/sklearn/utils/deprecation.py:87: FutureWarning: Function get_feature_names is deprecated; get_feature_names is deprecated in 1.0 and will be removed in 1.2. Please use get_feature_names_out instead.\n",
            "  warnings.warn(msg, category=FutureWarning)\n"
          ]
        }
      ]
    },
    {
      "cell_type": "code",
      "source": [
        "le = LabelEncoder()\n",
        "Y = le.fit_transform(Y)\n",
        "print(Y)\n",
        "print('Y.shape =', Y.shape)"
      ],
      "metadata": {
        "colab": {
          "base_uri": "https://localhost:8080/"
        },
        "id": "WIiQJLUdiCAJ",
        "outputId": "e6368f5c-2c9d-4da8-908e-30bf80cc281d"
      },
      "execution_count": 218,
      "outputs": [
        {
          "output_type": "stream",
          "name": "stdout",
          "text": [
            "[1 0 0 ... 0 1 0]\n",
            "Y.shape = (8124,)\n"
          ]
        }
      ]
    },
    {
      "cell_type": "code",
      "source": [
        "X_train, X_test, Y_train, Y_test = train_test_split(X, Y, test_size = 0.2, random_state = 100, stratify = Y)"
      ],
      "metadata": {
        "id": "v2_KSje7ihj7"
      },
      "execution_count": 219,
      "outputs": []
    },
    {
      "cell_type": "code",
      "source": [
        "X_dev, X_test, Y_dev, Y_test = train_test_split(X_test, Y_test, test_size = 0.5, random_state = 100, stratify = Y_test)"
      ],
      "metadata": {
        "id": "RYzq9Pg8je2V"
      },
      "execution_count": 220,
      "outputs": []
    },
    {
      "cell_type": "markdown",
      "source": [
        "### StraifiedSuffleSplit"
      ],
      "metadata": {
        "id": "447r3I6UBfTt"
      }
    },
    {
      "cell_type": "code",
      "source": [
        "'''sss = StratifiedShuffleSplit(n_splits=8, test_size=0.2, random_state=0)\n",
        "for train_index, test_index in sss.split(X.to_numpy(), Y):\n",
        "       X_train, X_test_1 = X.to_numpy()[train_index], X.to_numpy()[test_index]\n",
        "       Y_train, Y_test_1 = Y[train_index], Y[test_index]\n",
        "\n",
        "sssT = StratifiedShuffleSplit(n_splits=8, test_size=0.5, random_state=0)\n",
        "for a, b in sssT.split(X_test_1, Y_test_1):\n",
        "       X_test, X_dev = X_test[a], X_test[b]\n",
        "       Y_test, Y_dev = Y_test[a], Y[b] '''"
      ],
      "metadata": {
        "id": "n5HuDLgK7bRo"
      },
      "execution_count": 106,
      "outputs": []
    },
    {
      "cell_type": "code",
      "source": [
        "pd.Series(Y_train).value_counts()"
      ],
      "metadata": {
        "colab": {
          "base_uri": "https://localhost:8080/"
        },
        "id": "QsDGD2VGCLZX",
        "outputId": "7b3f9006-66e5-4d32-a4fb-7178a121ec89"
      },
      "execution_count": 128,
      "outputs": [
        {
          "output_type": "execute_result",
          "data": {
            "text/plain": [
              "0    3366\n",
              "1    3133\n",
              "dtype: int64"
            ]
          },
          "metadata": {},
          "execution_count": 128
        }
      ]
    },
    {
      "cell_type": "code",
      "source": [
        "data = [X_train, Y_train, X_test, Y_test, X_dev, Y_dev]\n",
        "for i in range(len(data)):\n",
        "  if i %2 != 0: \n",
        "    data[i] = np.reshape(data[i],(1,data[i].shape[0]))\n",
        "  else:\n",
        "    data[i] = data[i].T\n",
        "  print(data[i].shape)"
      ],
      "metadata": {
        "colab": {
          "base_uri": "https://localhost:8080/"
        },
        "id": "G-IGKc9Ih0NJ",
        "outputId": "f6a6f2bf-2a7e-4457-a46e-4c941fb1d897"
      },
      "execution_count": 129,
      "outputs": [
        {
          "output_type": "stream",
          "name": "stdout",
          "text": [
            "(117, 6499)\n",
            "(1, 6499)\n",
            "(117, 813)\n",
            "(1, 813)\n",
            "(117, 812)\n",
            "(1, 812)\n"
          ]
        }
      ]
    },
    {
      "cell_type": "markdown",
      "source": [
        "## Build Network"
      ],
      "metadata": {
        "id": "mU3X52uAkcGB"
      }
    },
    {
      "cell_type": "markdown",
      "source": [
        "## Initialization"
      ],
      "metadata": {
        "id": "jVp0p5qCqvQt"
      }
    },
    {
      "cell_type": "code",
      "source": [
        "def initialization(dim_array):\n",
        "    \"\"\"\n",
        "    Arguments:\n",
        "    dim_array -- python array (list) containing the dimensions of each layer in our network and dimension of input layer 1st\n",
        "    \n",
        "    Returns:\n",
        "    parameters -- python dictionary containing your parameters \"W1\", \"b1\", ..., \"WL\", \"bL\":\n",
        "                    Wl -- weight matrix of shape (layer_dims[l], layer_dims[l-1])\n",
        "                    bl -- bias vector of shape (layer_dims[l], 1)\n",
        "    \"\"\"\n",
        "\n",
        "    L = len(dim_array)            # number of layers in Network\n",
        "    np.random.seed(3)\n",
        "    parameters = {}               # Ws and bs \n",
        "\n",
        "    for i in range(1,L):\n",
        "      parameters[\"W\" + str(i)] = np.random.randn(dim_array[i], dim_array[i-1])*np.sqrt(2/dim_array[i-1])  # used Xavier Initialization to prevent exploding and vanishing vectors\n",
        "      parameters[\"b\" + str(i)] = np.zeros((dim_array[i],1))                                               # used normal distribution for random selection, reduce chance of extreme values to be selected, better for G.D\n",
        "\n",
        "    return parameters"
      ],
      "metadata": {
        "id": "3QiFYP0NqyyW"
      },
      "execution_count": 221,
      "outputs": []
    },
    {
      "cell_type": "code",
      "source": [
        "parameters = initialization([117,8,4,3,1])"
      ],
      "metadata": {
        "id": "LRve0iCe1lVq"
      },
      "execution_count": 222,
      "outputs": []
    },
    {
      "cell_type": "markdown",
      "source": [
        "## Forward Propagation"
      ],
      "metadata": {
        "id": "Slgupo5bqzn9"
      }
    },
    {
      "cell_type": "code",
      "source": [
        "## Helper Functions\n",
        "\n",
        "def sigmoid(Z):\n",
        "\n",
        "  \"\"\"\n",
        "    Arguments:\n",
        "    Z -- numpy array\n",
        "    \n",
        "    Returns:\n",
        "    A -- output of sigmoid function\n",
        "    cache -- contains argument Z\n",
        "  \"\"\"\n",
        "\n",
        "  A = 1 / (1 + np.exp(-Z))\n",
        "  cache = Z\n",
        "  return A, cache\n",
        "\n",
        "def relu(Z):\n",
        "\n",
        "  \"\"\"\n",
        "    Arguments:\n",
        "    Z -- numpy array\n",
        "    \n",
        "    Returns:\n",
        "    A -- output of RELU function\n",
        "    cache -- contains argument Z\n",
        "  \"\"\"\n",
        "  A = np.maximum(0,Z)\n",
        "  cache = Z\n",
        "  return A, cache"
      ],
      "metadata": {
        "id": "qvMadue2prEb"
      },
      "execution_count": 223,
      "outputs": []
    },
    {
      "cell_type": "code",
      "source": [
        "def linear_forward(A, W, b):\n",
        "    \"\"\"\n",
        "    Implement the linear part of a layer's forward propagation.\n",
        "\n",
        "    Arguments:\n",
        "    A -- activations from previous layer (or input data): (size of previous layer, number of examples)\n",
        "    W -- weights matrix: numpy array of shape (size of current layer, size of previous layer)\n",
        "    b -- bias vector, numpy array of shape (size of the current layer, 1)\n",
        "\n",
        "    Returns:\n",
        "    Z -- the input of the activation function, also called pre-activation parameter \n",
        "    cache -- a python tuple containing \"A\", \"W\" and \"b\" ; stored for computing the backward pass efficiently\n",
        "    \"\"\"\n",
        "    Z = np.dot(W,A) + b\n",
        "    cache = (A, W, b)\n",
        "    \n",
        "    return Z, cache"
      ],
      "metadata": {
        "id": "V_Qs4k0OetfC"
      },
      "execution_count": 224,
      "outputs": []
    },
    {
      "cell_type": "code",
      "source": [
        "def linear_activation_forward(A_prev, W, b, activation):\n",
        "    \"\"\"\n",
        "    Implement the forward propagation for the LINEAR->ACTIVATION layer\n",
        "\n",
        "    Arguments:\n",
        "    A_prev -- activations from previous layer (or input data): (size of previous layer, number of examples)\n",
        "    W -- weights matrix: numpy array of shape (size of current layer, size of previous layer)\n",
        "    b -- bias vector, numpy array of shape (size of the current layer, 1)\n",
        "    activation -- the activation to be used in this layer, stored as a text string: \"sigmoid\" or \"relu\"\n",
        "\n",
        "    Returns:\n",
        "    A -- the output of the activation function, also called the post-activation value \n",
        "    cache -- a python tuple containing \"linear_cache\" and \"activation_cache\";\n",
        "             stored for computing the backward pass efficiently\n",
        "    \"\"\"\n",
        "    \n",
        "    if activation == \"sigmoid\":\n",
        "        Z, linear_cache = linear_forward(A_prev, W, b)\n",
        "        A, activation_cache = sigmoid(Z)\n",
        "\n",
        "    \n",
        "    elif activation == \"relu\":\n",
        "        Z, linear_cache = linear_forward(A_prev, W, b)\n",
        "        A, activation_cache = relu(Z)\n",
        "\n",
        "    cache = (linear_cache, activation_cache)\n",
        "\n",
        "    return A, cache"
      ],
      "metadata": {
        "id": "XE9TS5ncexKD"
      },
      "execution_count": 225,
      "outputs": []
    },
    {
      "cell_type": "code",
      "source": [
        "def L_model_forward(X, parameters):\n",
        "    \"\"\"\n",
        "    Implement forward propagation for the [LINEAR->RELU]*(L-1)->LINEAR->SIGMOID computation\n",
        "    \n",
        "    Arguments:\n",
        "    X -- data, numpy array of shape (input size, number of examples)\n",
        "    parameters -- output of initialize_parameters_deep()\n",
        "    \n",
        "    Returns:\n",
        "    AL -- activation value from the output (last) layer\n",
        "    caches -- list of caches containing:\n",
        "                every cache of linear_activation_forward() (there are L of them, indexed from 0 to L-1)\n",
        "    \"\"\"\n",
        "\n",
        "    caches = []\n",
        "    A = X\n",
        "    L = len(parameters) // 2                  # number of layers in the neural network\n",
        "    \n",
        "    # Implement [LINEAR -> RELU]*(L-1). Add \"cache\" to the \"caches\" list.\n",
        "    # The for loop starts at 1 because layer 0 is the input\n",
        "    for l in range(1, L):\n",
        "        A_prev = A \n",
        "        A, cache = linear_activation_forward(A_prev,\n",
        "                                             parameters['W' + str(l)],\n",
        "                                             parameters['b' + str(l)],\n",
        "                                             activation='relu')\n",
        "        caches.append(cache)\n",
        "\n",
        "    \n",
        "    # Implement LINEAR -> SIGMOID. Add \"cache\" to the \"caches\" list.\n",
        "    AL, cache = linear_activation_forward(A,\n",
        "                                          parameters['W' + str(L)],\n",
        "                                          parameters['b' + str(L)],\n",
        "                                          activation='sigmoid')\n",
        "    caches.append(cache)\n",
        "          \n",
        "    return AL, caches"
      ],
      "metadata": {
        "id": "W3DVoeuJe0Ok"
      },
      "execution_count": 226,
      "outputs": []
    },
    {
      "cell_type": "code",
      "source": [
        "AL, caches = L_model_forward(X_train.T,parameters)"
      ],
      "metadata": {
        "id": "_fNyxwzre3i3"
      },
      "execution_count": 227,
      "outputs": []
    },
    {
      "cell_type": "code",
      "source": [
        "pd.Series(AL[0]).describe()"
      ],
      "metadata": {
        "colab": {
          "base_uri": "https://localhost:8080/"
        },
        "id": "2cx_3-dzjdVu",
        "outputId": "cdb5c773-1148-4a86-a2e6-e42824d5a931"
      },
      "execution_count": 228,
      "outputs": [
        {
          "output_type": "execute_result",
          "data": {
            "text/plain": [
              "count    6499.000000\n",
              "mean        0.300240\n",
              "std         0.098830\n",
              "min         0.099186\n",
              "25%         0.221169\n",
              "50%         0.293642\n",
              "75%         0.379696\n",
              "max         0.500000\n",
              "dtype: float64"
            ]
          },
          "metadata": {},
          "execution_count": 228
        }
      ]
    },
    {
      "cell_type": "markdown",
      "source": [
        "## Cost"
      ],
      "metadata": {
        "id": "b6P20GjdJ_5u"
      }
    },
    {
      "cell_type": "code",
      "source": [
        "def cost_function(AL,y):\n",
        "  \"\"\"\n",
        "    Arguments:\n",
        "    AL -- matrix representing output of final layer (y_hat, estimated)\n",
        "    y -- matrix representing real output values (y)\n",
        "\n",
        "    Returns:\n",
        "    cost -- output of cost function\n",
        "  \"\"\"\n",
        "  m = y.shape[1]\n",
        "  cost = -1/m*(np.sum(y*np.log(AL)+(1-y)*np.log(1-AL)))\n",
        "  cost = np.squeeze(cost) # to get 1 value \n",
        "\n",
        "  return cost"
      ],
      "metadata": {
        "id": "qTFLsLAGKBLY"
      },
      "execution_count": 19,
      "outputs": []
    },
    {
      "cell_type": "code",
      "source": [
        "Y_train_reshaped = np.reshape(Y_train,(1,6499))\n",
        "cost_function(AL,Y_train_reshaped)\n"
      ],
      "metadata": {
        "colab": {
          "base_uri": "https://localhost:8080/"
        },
        "id": "OWk4N3euMEVI",
        "outputId": "92d7eb41-3814-43f4-d1ed-4a27b6e0195e"
      },
      "execution_count": 20,
      "outputs": [
        {
          "output_type": "execute_result",
          "data": {
            "text/plain": [
              "0.6743943096030101"
            ]
          },
          "metadata": {},
          "execution_count": 20
        }
      ]
    },
    {
      "cell_type": "markdown",
      "source": [
        "## BACKPRPO\n"
      ],
      "metadata": {
        "id": "t3fXtrIdMVlS"
      }
    },
    {
      "cell_type": "code",
      "source": [
        "def relu_backward(dA, cache):\n",
        "    \"\"\"\n",
        "    Implement the backward propagation for a single RELU unit.\n",
        "\n",
        "    Arguments:\n",
        "    dA -- post-activation gradient, of any shape\n",
        "    cache -- 'Z' where we store for computing backward propagation efficiently\n",
        "\n",
        "    Returns:\n",
        "    dZ -- Gradient of the cost with respect to Z\n",
        "    \"\"\"\n",
        "    \n",
        "    Z = cache\n",
        "    dZ = np.array(dA, copy=True) # just converting dz to a correct object.\n",
        "    \n",
        "    # When z <= 0, you should set dz to 0 as well. \n",
        "    dZ[Z <= 0] = 0\n",
        "    \n",
        "    \n",
        "    return dZ\n",
        "\n",
        "def sigmoid_backward(dA, cache):\n",
        "    \"\"\"\n",
        "    Implement the backward propagation for a single SIGMOID unit.\n",
        "\n",
        "    Arguments:\n",
        "    dA -- post-activation gradient, of any shape\n",
        "    cache -- 'Z' where we store for computing backward propagation efficiently\n",
        "\n",
        "    Returns:\n",
        "    dZ -- Gradient of the cost with respect to Z\n",
        "    \"\"\"\n",
        "    \n",
        "    Z = cache\n",
        "    \n",
        "    s = 1/(1+np.exp(-Z))\n",
        "    dZ = dA * s * (1-s)\n",
        "    \n",
        "    assert (dZ.shape == Z.shape)\n",
        "    \n",
        "    return dZ\n",
        "\n",
        "\n"
      ],
      "metadata": {
        "id": "jQS0kqWtQ16A"
      },
      "execution_count": 244,
      "outputs": []
    },
    {
      "cell_type": "code",
      "source": [
        "def linear_backward(dZ, cache):\n",
        "    \"\"\"\n",
        "    Implement the linear portion of backward propagation for a single layer (layer l)\n",
        "\n",
        "    Arguments:\n",
        "    dZ -- Gradient of the cost with respect to the linear output (of current layer l)\n",
        "    cache -- tuple of values (A_prev, W, b) coming from the forward propagation in the current layer\n",
        "\n",
        "    Returns:\n",
        "    dA_prev -- Gradient of the cost with respect to the activation (of the previous layer l-1), same shape as A_prev\n",
        "    dW -- Gradient of the cost with respect to W (current layer l), same shape as W\n",
        "    db -- Gradient of the cost with respect to b (current layer l), same shape as b\n",
        "    \"\"\"\n",
        "    A_prev, W, b = cache\n",
        "    m = A_prev.shape[1]\n",
        "\n",
        "    dW = np.dot(dZ,A_prev.T)/m  \n",
        "    db = np.sum(dZ,axis=1,keepdims=True)/m\n",
        "    dA_prev = np.dot(W.T,dZ)\n",
        "\n",
        "    return dA_prev, dW, db"
      ],
      "metadata": {
        "id": "MXszp8qhMi5v"
      },
      "execution_count": 245,
      "outputs": []
    },
    {
      "cell_type": "code",
      "source": [
        "def linear_activation_backward(dA, cache, activation):\n",
        "    \"\"\"\n",
        "    Implement the backward propagation for the LINEAR->ACTIVATION layer.\n",
        "    \n",
        "    Arguments:\n",
        "    dA -- post-activation gradient for current layer l \n",
        "    cache -- tuple of values (linear_cache, activation_cache) we store for computing backward propagation efficiently\n",
        "    activation -- the activation to be used in this layer, stored as a text string: \"sigmoid\" or \"relu\"\n",
        "    \n",
        "    Returns:\n",
        "    dA_prev -- Gradient of the cost with respect to the activation (of the previous layer l-1), same shape as A_prev\n",
        "    dW -- Gradient of the cost with respect to W (current layer l), same shape as W\n",
        "    db -- Gradient of the cost with respect to b (current layer l), same shape as b\n",
        "    \"\"\"\n",
        "    linear_cache, activation_cache = cache\n",
        "    \n",
        "    if activation == \"relu\":\n",
        "        dZ =relu_backward(dA, activation_cache) \n",
        "        dA_prev, dW, db = linear_backward(dZ, linear_cache)\n",
        "\n",
        "        \n",
        "    elif activation == \"sigmoid\":\n",
        "        dZ =sigmoid_backward(dA, activation_cache)\n",
        "        dA_prev, dW, db = linear_backward(dZ, linear_cache)\n",
        "    \n",
        "    return dA_prev, dW, db"
      ],
      "metadata": {
        "id": "wpJld9IkQQDi"
      },
      "execution_count": 246,
      "outputs": []
    },
    {
      "cell_type": "code",
      "source": [
        "def L_model_backward(AL, Y, caches):\n",
        "    \"\"\"\n",
        "    Implement the backward propagation for the [LINEAR->RELU] * (L-1) -> LINEAR -> SIGMOID group\n",
        "    \n",
        "    Arguments:\n",
        "    AL -- probability vector, output of the forward propagation (L_model_forward())\n",
        "    Y -- true \"label\" vector (containing 0 if non-cat, 1 if cat)\n",
        "    caches -- list of caches containing:\n",
        "                every cache of linear_activation_forward() with \"relu\" (it's caches[l], for l in range(L-1) i.e l = 0...L-2)\n",
        "                the cache of linear_activation_forward() with \"sigmoid\" (it's caches[L-1])\n",
        "    \n",
        "    Returns:\n",
        "    grads -- A dictionary with the gradients\n",
        "             grads[\"dA\" + str(l)] = ... \n",
        "             grads[\"dW\" + str(l)] = ...\n",
        "             grads[\"db\" + str(l)] = ... \n",
        "    \"\"\"\n",
        "    grads = {}\n",
        "    L = len(caches) # the number of layers\n",
        "    m = AL.shape[1]\n",
        "    Y = Y.reshape(AL.shape) # after this line, Y is the same shape as AL\n",
        "    \n",
        "    # Initializing the backpropagation\n",
        "    dAL = - (np.divide(Y, AL) - np.divide(1 - Y, 1 - AL))\n",
        "\n",
        "    \n",
        "    # Lth layer (SIGMOID -> LINEAR) gradients. Inputs: \"dAL, current_cache\". Outputs: \"grads[\"dAL-1\"], grads[\"dWL\"], grads[\"dbL\"]\n",
        "    current_cache = caches[L-1]\n",
        "    dA_prev_temp, dW_temp, db_temp = linear_activation_backward(dAL, current_cache, activation='sigmoid')\n",
        "    grads[\"dA\" + str(L-1)] = dA_prev_temp\n",
        "    grads[\"dW\" + str(L)] = dW_temp\n",
        "    grads[\"db\" + str(L)] = db_temp\n",
        "\n",
        "    \n",
        "    # Loop from l=L-2 to l=0\n",
        "    for l in reversed(range(L-1)):\n",
        "        # lth layer: (RELU -> LINEAR) gradients.\n",
        "        # Inputs: \"grads[\"dA\" + str(l + 1)], current_cache\". Outputs: \"grads[\"dA\" + str(l)] , grads[\"dW\" + str(l + 1)] , grads[\"db\" + str(l + 1)] \n",
        "        current_cache = caches[l]\n",
        "        dA_prev_temp, dW_temp, db_temp = linear_activation_backward(grads[\"dA\" + str(l + 1)], current_cache, activation='relu')\n",
        "        grads[\"dA\" + str(l)] = dA_prev_temp\n",
        "        grads[\"dW\" + str(l + 1)] = dW_temp\n",
        "        grads[\"db\" + str(l + 1)] = db_temp\n",
        "\n",
        "    return grads"
      ],
      "metadata": {
        "id": "yNh9htqbQW71"
      },
      "execution_count": 247,
      "outputs": []
    },
    {
      "cell_type": "markdown",
      "source": [
        "## UPDATE"
      ],
      "metadata": {
        "id": "AMPVr2e9aIyr"
      }
    },
    {
      "cell_type": "code",
      "source": [
        "def update_parameters(parameters,grads, learning_rate):\n",
        "    \"\"\"\n",
        "    Update parameters using gradient descent\n",
        "    \n",
        "    Arguments:\n",
        "    params -- python dictionary containing your parameters \n",
        "    grads -- python dictionary containing your gradients, output of L_model_backward\n",
        "    \n",
        "    Returns:\n",
        "    parameters -- python dictionary containing your updated parameters \n",
        "                  parameters[\"W\" + str(l)] = ... \n",
        "                  parameters[\"b\" + str(l)] = ...\n",
        "    \"\"\"\n",
        "\n",
        "    L = len(parameters) // 2 # get number of layers\n",
        "\n",
        "    for l in range(L): # in each layer update w and b \n",
        "          parameters[\"W\" + str(l+1)] =parameters[\"W\" + str(l+1)]- (learning_rate * grads[\"dW\" + str(l+1)])\n",
        "          parameters[\"b\" + str(l+1)] =parameters[\"b\" + str(l+1)]-(learning_rate * grads[\"db\" + str(l+1)])\n",
        "\n",
        "    return parameters "
      ],
      "metadata": {
        "id": "-p57qYo07VxK"
      },
      "execution_count": 25,
      "outputs": []
    },
    {
      "cell_type": "markdown",
      "source": [
        "## Model"
      ],
      "metadata": {
        "id": "ILFwl6PXfIeq"
      }
    },
    {
      "cell_type": "code",
      "source": [
        "# GRADED FUNCTION: L_layer_model\n",
        "\n",
        "def L_layer_model(X, Y, layers_dims, learning_rate = 0.0075, num_iterations = 3000, print_cost=False):\n",
        "    \"\"\"\n",
        "    Implements a L-layer neural network: [LINEAR->RELU]*(L-1)->LINEAR->SIGMOID.\n",
        "    \n",
        "    Arguments:\n",
        "    X -- data, numpy array of shape (num_px * num_px * 3, number of examples)\n",
        "    Y -- true \"label\" vector (containing 0 if cat, 1 if non-cat), of shape (1, number of examples)\n",
        "    layers_dims -- list containing the input size and each layer size, of length (number of layers + 1).\n",
        "    learning_rate -- learning rate of the gradient descent update rule\n",
        "    num_iterations -- number of iterations of the optimization loop\n",
        "    print_cost -- if True, it prints the cost every 100 steps\n",
        "    \n",
        "    Returns:\n",
        "    parameters -- parameters learnt by the model. They can then be used to predict.\n",
        "    \"\"\"\n",
        "\n",
        "    np.random.seed(1)\n",
        "    costs = []                         # keep track of cost\n",
        "    \n",
        "    # Parameters initialization.\n",
        "    parameters = initialization(layers_dims)\n",
        "\n",
        "    # Loop (gradient descent)\n",
        "    for i in range(0, num_iterations):\n",
        "\n",
        "        # Forward propagation: [LINEAR -> RELU]*(L-1) -> LINEAR -> SIGMOID.\n",
        "        AL, caches = L_model_forward(X, parameters)\n",
        "        \n",
        "        # Compute cost.\n",
        "        cost = cost_function(AL, Y)\n",
        "    \n",
        "        # Backward propagation.\n",
        "        grads = L_model_backward(AL, Y, caches)    \n",
        "\n",
        "        # Update parameters.\n",
        "        parameters = update_parameters(parameters, grads, learning_rate)\n",
        "\n",
        "        # Print the cost every 100 iterations\n",
        "        if print_cost and i % 100 == 0 or i == num_iterations - 1:\n",
        "            print(\"Cost after iteration {}: {}\".format(i, np.squeeze(cost)))\n",
        "        if i % 100 == 0 or i == num_iterations:\n",
        "            costs.append(cost)\n",
        "    \n",
        "    return parameters, costs"
      ],
      "metadata": {
        "id": "h9tQ-agmaNf8"
      },
      "execution_count": 26,
      "outputs": []
    },
    {
      "cell_type": "code",
      "source": [
        "parameters, costs = L_layer_model(X_train.T, Y_train_reshaped, [117,8,4,3,1], learning_rate = 0.0075, num_iterations = 6000, print_cost=True)"
      ],
      "metadata": {
        "colab": {
          "base_uri": "https://localhost:8080/"
        },
        "id": "Rj0URIrham9P",
        "outputId": "8d2c23dc-5f8d-47cb-be6d-b07b9191466e"
      },
      "execution_count": null,
      "outputs": [
        {
          "output_type": "stream",
          "name": "stdout",
          "text": [
            "Cost after iteration 0: 0.6808133540323417\n",
            "Cost after iteration 100: 0.5272714851238325\n",
            "Cost after iteration 200: 0.4615523242883134\n",
            "Cost after iteration 300: 0.40816860507127595\n",
            "Cost after iteration 400: 0.3611151275053081\n",
            "Cost after iteration 500: 0.3210224355480243\n",
            "Cost after iteration 600: 0.2876882497490378\n",
            "Cost after iteration 700: 0.2600199585369114\n",
            "Cost after iteration 800: 0.2370382279913729\n",
            "Cost after iteration 900: 0.2175668345235836\n",
            "Cost after iteration 1000: 0.20078232092756992\n",
            "Cost after iteration 1100: 0.18621922714974815\n",
            "Cost after iteration 1200: 0.17347343368491752\n",
            "Cost after iteration 1300: 0.16229522998958357\n",
            "Cost after iteration 1400: 0.15241425859938568\n",
            "Cost after iteration 1500: 0.14363215542739802\n",
            "Cost after iteration 1600: 0.1357633954788699\n",
            "Cost after iteration 1700: 0.1286695385171883\n",
            "Cost after iteration 1800: 0.12224788077270582\n",
            "Cost after iteration 1900: 0.1164379547857925\n",
            "Cost after iteration 2000: 0.11116328700504839\n",
            "Cost after iteration 2100: 0.1063376441629263\n",
            "Cost after iteration 2200: 0.1019004368090509\n",
            "Cost after iteration 2300: 0.09780118779934338\n",
            "Cost after iteration 2400: 0.09401169389074802\n",
            "Cost after iteration 2500: 0.09050175348234947\n",
            "Cost after iteration 2600: 0.08723857534797622\n",
            "Cost after iteration 2700: 0.08419961683538381\n",
            "Cost after iteration 2800: 0.08136075533136128\n",
            "Cost after iteration 2900: 0.0786993616403743\n",
            "Cost after iteration 3000: 0.07619534527199077\n",
            "Cost after iteration 3100: 0.07384045199021246\n",
            "Cost after iteration 3200: 0.07161964783371093\n",
            "Cost after iteration 3300: 0.06952060823542146\n",
            "Cost after iteration 3400: 0.0675331288573555\n",
            "Cost after iteration 3500: 0.06564711635787884\n",
            "Cost after iteration 3600: 0.06385630531311781\n",
            "Cost after iteration 3700: 0.06215372246267254\n",
            "Cost after iteration 3800: 0.06053318172129095\n"
          ]
        }
      ]
    },
    {
      "cell_type": "code",
      "source": [
        "# setup plot size\n",
        "fig, ax1 = plt.subplots(figsize=(18,6))\n",
        "fig.patch.set_facecolor('xkcd:white')\n",
        "ax2 = ax1.twinx()\n",
        "ax3 = ax1.twinx()\n",
        "\n",
        "# DATA\n",
        "# draw the line curve of TMAX\n",
        "ax1.plot(np.arange(0,6000,100),costs, '-', color='#1d3557', lw=3)\n",
        "ax2.plot(np.arange(0,3000,100),costs[:-30], '-', color='#457b9d', lw=3)\n",
        "ax3.plot(np.arange(0,2000,100),costs[:-40], '-', color='#a8dadc', lw=3)\n",
        "\n",
        "# ASTHETICS\n",
        "# Remove splines. Can be done one at a time or can slice with a list.\n",
        "for spine in ['top', 'right']:\n",
        "    ax1.spines[spine].set_visible(False)\n",
        "    ax2.spines[spine].set_visible(False)\n",
        "    ax3.spines[spine].set_visible(False)\n",
        "\n",
        "ax1.spines['bottom'].set_linewidth(1.1)\n",
        "ax1.spines['bottom'].set_capstyle('projecting')\n",
        "ax1.spines['left'].set_linewidth(1.1)\n",
        "ax1.spines['left'].set_capstyle('projecting')\n",
        "\n",
        "\n",
        "# Reformat y-axis tick labels\n",
        "ax1.tick_params(axis='y', labelsize=14, colors='#404040')\n",
        "ax1.tick_params(axis='x', labelsize=14, size= 16, colors='#404040')\n",
        "ax2.tick_params(right = False)\n",
        "ax3.tick_params(right = False)\n",
        "\n",
        "ax2.set_yticklabels(' ')\n",
        "ax3.set_yticklabels(' ')\n",
        "\n",
        "# ANNOTATION\n",
        "# Label\n",
        "ax1.text(x=500, y=0.6, s='J(w,b)',ha='right',color='#404040',fontsize=17, fontweight='heavy')\n",
        "ax1.text(x=0.12, y=.95, s=\"Cost Function over 6000 iterations\", transform=fig.transFigure, ha='left', fontsize=27, weight='bold', alpha=.8)\n",
        "\n",
        "fig.legend(['6000 Iterations','3000 Iterations','2000 Iterations'],loc=(0.7,0.5),fontsize=17,frameon=False)\n",
        "\n",
        "fig.show()"
      ],
      "metadata": {
        "colab": {
          "base_uri": "https://localhost:8080/",
          "height": 441
        },
        "id": "9cjwCX2t_ne0",
        "outputId": "477a5241-2db6-4374-e97f-51407b33a3ed"
      },
      "execution_count": 206,
      "outputs": [
        {
          "output_type": "display_data",
          "data": {
            "text/plain": [
              "<Figure size 1296x432 with 3 Axes>"
            ],
            "image/png": "[encoded data removed]"
          },
          "metadata": {}
        }
      ]
    },
    {
      "cell_type": "markdown",
      "source": [
        "## Predict"
      ],
      "metadata": {
        "id": "pGEoCMurfVBL"
      }
    },
    {
      "cell_type": "code",
      "source": [
        "def predict(parameters, X):\n",
        "    \"\"\"\n",
        "    Using the learned parameters, predicts a class for each example in X\n",
        "    \n",
        "    Arguments:\n",
        "    parameters -- python dictionary containing your parameters \n",
        "    X -- input data of size (n_x, m) X_dev or X_test\n",
        "    \n",
        "    Returns\n",
        "    predictions -- vector of predictions of our model (red: 0 / blue: 1)\n",
        "    \"\"\"\n",
        "    \n",
        "    # Computes probabilities using forward propagation, and classifies to 0/1 using 0.5 as the threshold.\n",
        "    A2, cache = L_model_forward(X, parameters)\n",
        "    predictions = np.round(A2)\n",
        "    \n",
        "    return predictions"
      ],
      "metadata": {
        "id": "1JD0P_iSeBX0"
      },
      "execution_count": 144,
      "outputs": []
    },
    {
      "cell_type": "code",
      "source": [
        "def calculate_accuracy(Y,Y_hat):\n",
        "  accuracy = float((np.dot(Y,Y_hat.T) + np.dot(1 - Y, 1 - Y_hat.T)) / float(Y.size)*100)\n",
        "  return accuracy"
      ],
      "metadata": {
        "id": "9_KlQXZK4BOj"
      },
      "execution_count": 145,
      "outputs": []
    },
    {
      "cell_type": "code",
      "source": [
        "AL_train = predict(parameters, X_train.T)\n",
        "calculate_accuracy(Y_train_reshaped,AL_train)"
      ],
      "metadata": {
        "colab": {
          "base_uri": "https://localhost:8080/"
        },
        "id": "cpDPTEf40gz8",
        "outputId": "2c562527-d198-40f4-b830-e2d81c10c7e5"
      },
      "execution_count": 146,
      "outputs": [
        {
          "output_type": "execute_result",
          "data": {
            "text/plain": [
              "99.69226034774582"
            ]
          },
          "metadata": {},
          "execution_count": 146
        }
      ]
    },
    {
      "cell_type": "code",
      "source": [
        "Y_dev_reshaped = np.reshape(Y_dev,(1,Y_dev.shape[0]))\n",
        "AL_dev = predict(parameters, X_dev.T)\n",
        "calculate_accuracy(Y_dev_reshaped,AL_dev)"
      ],
      "metadata": {
        "colab": {
          "base_uri": "https://localhost:8080/"
        },
        "id": "-EDAsy0B4r12",
        "outputId": "56ad8637-c5b1-449d-94d0-f90fb8b1ea7d"
      },
      "execution_count": 147,
      "outputs": [
        {
          "output_type": "execute_result",
          "data": {
            "text/plain": [
              "99.50738916256158"
            ]
          },
          "metadata": {},
          "execution_count": 147
        }
      ]
    },
    {
      "cell_type": "code",
      "source": [
        "Y_test_reshaped = np.reshape(Y_test,(1,Y_test.shape[0]))\n",
        "AL_test = predict(parameters, X_test.T)\n",
        "calculate_accuracy(Y_test_reshaped,AL_test)"
      ],
      "metadata": {
        "colab": {
          "base_uri": "https://localhost:8080/"
        },
        "id": "IVcmb2mZ48Xk",
        "outputId": "068f8eaf-87b8-4538-d569-e6bc02486acf"
      },
      "execution_count": 148,
      "outputs": [
        {
          "output_type": "execute_result",
          "data": {
            "text/plain": [
              "99.63099630996311"
            ]
          },
          "metadata": {},
          "execution_count": 148
        }
      ]
    },
    {
      "cell_type": "markdown",
      "source": [
        "**Expected Output**:\n",
        "\n",
        "<table>\n",
        "    <tr>\n",
        "    <td>\n",
        "        <b>Train Accuracy</b>\n",
        "    </td>\n",
        "    <td>\n",
        "    99.81\n",
        "    </td>\n",
        "    </tr>\n",
        "    <tr>\n",
        "    <td>\n",
        "        <b>Dev Accuracy</b>\n",
        "    </td>\n",
        "    <td>\n",
        "    99.63\n",
        "    </td>\n",
        "    </tr>\n",
        "    <tr>\n",
        "    <td>\n",
        "        <b>Test Accuracy</b>\n",
        "    </td>\n",
        "    <td>\n",
        "    99.75\n",
        "    </td>\n",
        "    </tr>\n",
        "</table>"
      ],
      "metadata": {
        "id": "Y95-EZ2r2r7j"
      }
    },
    {
      "cell_type": "markdown",
      "source": [
        "# Regularization L2"
      ],
      "metadata": {
        "id": "Kfh4cwCqTlG0"
      }
    },
    {
      "cell_type": "code",
      "source": [
        "def cost_function_L2(AL,y,parameters,alpha):\n",
        "  \"\"\"\n",
        "    Arguments:\n",
        "    AL -- matrix representing output of final layer (y_hat, estimated)\n",
        "    y -- matrix representing real output values (y)\n",
        "    lambd -- int represnting regularization parameter \n",
        "\n",
        "    Returns:\n",
        "    cost -- output of cost function\n",
        "  \"\"\"\n",
        "  m = y.shape[1]\n",
        "  cross_entropy_cost = cost_function(AL,y)\n",
        "\n",
        "  #regularized weight\n",
        "  norms=[]\n",
        "  L = len(parameters.keys())//2\n",
        "  for l in range(1,L):\n",
        "    norm = np.linalg.norm(parameters['W'+str(l)])**2\n",
        "    norms.append(norm)\n",
        "\n",
        "  L2_regularization_cost = (1/m)*(alpha/2) * sum(norms)\n",
        "  cost = cross_entropy_cost + L2_regularization_cost\n",
        "\n",
        "  cost = np.squeeze(cost) # to get 1 value \n",
        "\n",
        "  return cost"
      ],
      "metadata": {
        "id": "J4tRgQfMbFOC"
      },
      "execution_count": 241,
      "outputs": []
    },
    {
      "cell_type": "code",
      "source": [
        "cost_function_L2(AL,Y_train_reshaped,parameters,alpha=3)"
      ],
      "metadata": {
        "colab": {
          "base_uri": "https://localhost:8080/"
        },
        "id": "gO1NoliEWT-F",
        "outputId": "0ceebebd-e481-419f-f0a9-e822d7993791"
      },
      "execution_count": 242,
      "outputs": [
        {
          "output_type": "execute_result",
          "data": {
            "text/plain": [
              "0.6808133540323417"
            ]
          },
          "metadata": {},
          "execution_count": 242
        }
      ]
    },
    {
      "cell_type": "code",
      "source": [
        "def update_parameters_L2(parameters,grads,m,learning_rate, alpha):\n",
        "    \"\"\"\n",
        "    Update parameters using gradient descent\n",
        "    \n",
        "    Arguments:\n",
        "    params -- python dictionary containing your parameters \n",
        "    grads -- python dictionary containing your gradients, output of L_model_backward\n",
        "    \n",
        "    Returns:\n",
        "    parameters -- python dictionary containing your updated parameters \n",
        "                  parameters[\"W\" + str(l)] = ... \n",
        "                  parameters[\"b\" + str(l)] = ...\n",
        "    \"\"\"\n",
        "\n",
        "    L = len(parameters) // 2 # get number of layers\n",
        "    weight_decay = 1- ((alpha*learning_rate)/m)\n",
        "    for l in range(L): # in each layer update w and b \n",
        "          parameters[\"W\" + str(l+1)] =weight_decay*(parameters[\"W\" + str(l+1)])- (learning_rate * grads[\"dW\" + str(l+1)])\n",
        "          parameters[\"b\" + str(l+1)] =weight_decay*(parameters[\"b\" + str(l+1)])-(learning_rate * grads[\"db\" + str(l+1)])\n",
        "\n",
        "    return parameters "
      ],
      "metadata": {
        "id": "4oAKZ_1iZeyU"
      },
      "execution_count": 274,
      "outputs": []
    },
    {
      "cell_type": "code",
      "source": [
        "# GRADED FUNCTION: L_layer_model\n",
        "\n",
        "def L_layer_model_L2(X, Y, layers_dims, learning_rate = 0.0075, num_iterations = 3000,alpha=3, print_cost=False):\n",
        "    \"\"\"\n",
        "    Implements a L-layer neural network: [LINEAR->RELU]*(L-1)->LINEAR->SIGMOID.\n",
        "    \n",
        "    Arguments:\n",
        "    X -- data, numpy array of shape (num_px * num_px * 3, number of examples)\n",
        "    Y -- true \"label\" vector (containing 0 if cat, 1 if non-cat), of shape (1, number of examples)\n",
        "    layers_dims -- list containing the input size and each layer size, of length (number of layers + 1).\n",
        "    learning_rate -- learning rate of the gradient descent update rule\n",
        "    num_iterations -- number of iterations of the optimization loop\n",
        "    print_cost -- if True, it prints the cost every 100 steps\n",
        "    \n",
        "    Returns:\n",
        "    parameters -- parameters learnt by the model. They can then be used to predict.\n",
        "    \"\"\"\n",
        "\n",
        "    np.random.seed(1)\n",
        "    costs = []                         # keep track of cost\n",
        "    m = Y.shape[1]\n",
        "    # Parameters initialization.\n",
        "    parameters = initialization(layers_dims)\n",
        "\n",
        "    # Loop (gradient descent)\n",
        "    for i in range(0, num_iterations):\n",
        "\n",
        "        # Forward propagation: [LINEAR -> RELU]*(L-1) -> LINEAR -> SIGMOID.\n",
        "        AL, caches = L_model_forward(X, parameters)\n",
        "        \n",
        "        # Compute cost.\n",
        "        cost = cost_function_L2(AL,Y_train_reshaped,parameters,alpha)\n",
        "    \n",
        "        # Backward propagation.\n",
        "        grads = L_model_backward(AL, Y, caches)    \n",
        "\n",
        "        # Update parameters.\n",
        "        parameters = update_parameters_L2(parameters,grads,m,learning_rate, alpha)\n",
        "\n",
        "        # Print the cost every 100 iterations\n",
        "        if print_cost and i % 100 == 0 or i == num_iterations - 1:\n",
        "            print(\"Cost after iteration {}: {}\".format(i, np.squeeze(cost)))\n",
        "        if i % 100 == 0 or i == num_iterations:\n",
        "            costs.append(cost)\n",
        "    \n",
        "    return parameters, costs"
      ],
      "metadata": {
        "id": "hO4ddTindiZF"
      },
      "execution_count": 275,
      "outputs": []
    },
    {
      "cell_type": "code",
      "source": [
        "parameters, costs = L_layer_model_L2(X_train.T, Y_train_reshaped, [117,8,4,3,1], learning_rate = 0.0075, num_iterations = 500,alpha=0, print_cost=True)"
      ],
      "metadata": {
        "colab": {
          "base_uri": "https://localhost:8080/"
        },
        "id": "shyOdAnCeB1a",
        "outputId": "31d50398-c82c-4cbb-d349-e22a134090cf"
      },
      "execution_count": 315,
      "outputs": [
        {
          "output_type": "stream",
          "name": "stdout",
          "text": [
            "Cost after iteration 0: 0.6743943096030101\n",
            "Cost after iteration 100: 0.5207215753833273\n",
            "Cost after iteration 200: 0.45484010707503647\n",
            "Cost after iteration 300: 0.40129964077413605\n",
            "Cost after iteration 400: 0.3541069763427029\n",
            "Cost after iteration 499: 0.3142767199538195\n"
          ]
        }
      ]
    },
    {
      "cell_type": "code",
      "source": [
        "parameters['b1']"
      ],
      "metadata": {
        "colab": {
          "base_uri": "https://localhost:8080/"
        },
        "id": "wQFewbrsl7IL",
        "outputId": "ee8aca6f-6023-4a9e-8b6e-b293d2a0e8e1"
      },
      "execution_count": 316,
      "outputs": [
        {
          "output_type": "execute_result",
          "data": {
            "text/plain": [
              "array([[-6.29005304e-05],\n",
              "       [ 3.73572443e-02],\n",
              "       [-1.21869050e-02],\n",
              "       [ 1.34295990e-02],\n",
              "       [ 6.16254171e-02],\n",
              "       [-2.44836216e-03],\n",
              "       [ 6.12059878e-03],\n",
              "       [-1.79589478e-03]])"
            ]
          },
          "metadata": {},
          "execution_count": 316
        }
      ]
    },
    {
      "cell_type": "code",
      "source": [
        "AL_train = predict(parameters, X_train.T)\n",
        "calculate_accuracy(Y_train_reshaped,AL_train)"
      ],
      "metadata": {
        "colab": {
          "base_uri": "https://localhost:8080/"
        },
        "outputId": "01bfeebe-f1b3-4a41-9802-4c4b76411433",
        "id": "CqeD4L_MfPU_"
      },
      "execution_count": 317,
      "outputs": [
        {
          "output_type": "execute_result",
          "data": {
            "text/plain": [
              "95.18387444222188"
            ]
          },
          "metadata": {},
          "execution_count": 317
        }
      ]
    },
    {
      "cell_type": "code",
      "source": [
        "Y_dev_reshaped = np.reshape(Y_dev,(1,Y_dev.shape[0]))\n",
        "AL_dev = predict(parameters, X_dev.T)\n",
        "calculate_accuracy(Y_dev_reshaped,AL_dev)"
      ],
      "metadata": {
        "colab": {
          "base_uri": "https://localhost:8080/"
        },
        "outputId": "2b1e8343-97b5-48be-8cbc-167d954f57c8",
        "id": "GUTSUShVfPU_"
      },
      "execution_count": 318,
      "outputs": [
        {
          "output_type": "execute_result",
          "data": {
            "text/plain": [
              "95.44334975369459"
            ]
          },
          "metadata": {},
          "execution_count": 318
        }
      ]
    },
    {
      "cell_type": "code",
      "source": [
        "Y_test_reshaped = np.reshape(Y_test,(1,Y_test.shape[0]))\n",
        "AL_test = predict(parameters, X_test.T)\n",
        "calculate_accuracy(Y_test_reshaped,AL_test)"
      ],
      "metadata": {
        "colab": {
          "base_uri": "https://localhost:8080/"
        },
        "outputId": "65d55045-97cd-4ab2-f424-f3d8a3f00699",
        "id": "8a0eE_YZfPU_"
      },
      "execution_count": 319,
      "outputs": [
        {
          "output_type": "execute_result",
          "data": {
            "text/plain": [
              "94.4649446494465"
            ]
          },
          "metadata": {},
          "execution_count": 319
        }
      ]
    }
  ]
}